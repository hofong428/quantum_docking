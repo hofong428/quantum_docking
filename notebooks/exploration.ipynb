# Create the notebook file content
notebook_content = """{
 "cells": [
  {
   "cell_type": "markdown",
   "metadata": {},
   "source": [
    "# Quantum Molecular Docking Exploration\\n",
    "\\n",
    "This notebook demonstrates the quantum molecular docking capabilities."
   ]
  },
  {
   "cell_type": "code",
   "execution_count": null,
   "metadata": {},
   "outputs": [],
   "source": [
    "# Import necessary libraries\\n",
    "import sys\\n",
    "sys.path.append('../src')\\n",
    "\\n",
    "from quantum_docking import MolecularParser, QuantumOptimizer, DockingEngine\\n",
    "import numpy as np\\n",
    "import matplotlib.pyplot as plt\\n",
    "import pandas as pd"
   ]
  },
  {
   "cell_type": "code",
   "execution_count": null,
   "metadata": {},
   "outputs": [],
   "source": [
    "# Initialize components\\n",
    "parser = MolecularParser()\\n",
    "optimizer = QuantumOptimizer(backend='pennylane', num_qubits=4)\\n",
    "engine = DockingEngine(parser, optimizer)"
   ]
  },
  {
   "cell_type": "code",
   "execution_count": null,
   "metadata": {},
   "outputs": [],
   "source": [
    "# Example 1: Single Molecule Docking\\n",
    "ligand = 'CCO'  # Ethanol\\n",
    "receptor = 'c1ccccc1'  # Benzene\\n",
    "\\n",
    "result = engine.dock(ligand, receptor)\\n",
    "print(f'Binding Affinity: {result[\"binding_affinity\"]:.6f}')\\n",
    "print(f'Docking Time: {result[\"docking_time\"]:.2f}s')"
   ]
  },
  {
   "cell_type": "code",
   "execution_count": null,
   "metadata": {},
   "outputs": [],
   "source": [
    "# Example 2: Batch Docking\\n",
    "test_ligands = ['CCO', 'CCN', 'CC(=O)O', 'c1ccccc1']\\n",
    "target = 'CN1C=NC2=C1C(=O)N(C(=O)N2C)C'  # Caffeine\\n",
    "\\n",
    "batch_results = engine.batch_dock(test_ligands, target)\\n",
    "\\n",
    "# Create results DataFrame\\n",
    "df = pd.DataFrame([\\n",
    "    {\\n",
    "        'Ligand': ligand,\\n",
    "        'Binding_Affinity': result.get('binding_affinity', None),\\n",
    "        'Docking_Time': result.get('docking_time', None)\\n",
    "    }\\n",
    "    for ligand, result in zip(test_ligands, batch_results)\\n",
    "])\\n",
    "\\n",
    "print(df)"
   ]
  },
  {
   "cell_type": "code",
   "execution_count": null,
   "metadata": {},
   "outputs": [],
   "source": [
    "# Example 3: Visualization\\n",
    "plt.figure(figsize=(10, 6))\\n",
    "\\n",
    "# Plot binding affinities\\n",
    "valid_results = df.dropna()\\n",
    "plt.bar(valid_results['Ligand'], valid_results['Binding_Affinity'])\\n",
    "plt.xlabel('Ligand')\\n",
    "plt.ylabel('Binding Affinity')\\n",
    "plt.title('Quantum Docking Results')\\n",
    "plt.xticks(rotation=45)\\n",
    "plt.tight_layout()\\n",
    "plt.show()"
   ]
  },
  {
   "cell_type": "code",
   "execution_count": null,
   "metadata": {},
   "outputs": [],
   "source": [
    "# Example 4: Quantum vs Classical Comparison\\n",
    "from experiments import BenchmarkStudy\\n",
    "\\n",
    "benchmark = BenchmarkStudy()\\n",
    "comparison_results = benchmark.run_comparison(\\n",
    "    test_molecules=['CCO', 'CCN'],\\n",
    "    target_molecule='c1ccccc1',\\n",
    "    backends=['pennylane']\\n",
    ")\\n",
    "\\n",
    "print(comparison_results)"
   ]
  }
 ],
 "metadata": {
  "kernelspec": {
   "display_name": "Python 3",
   "language": "python",
   "name": "python3"
  },
  "language_info": {
   "codemirror_mode": {
    "name": "ipython",
    "version": 3
   },
   "file_extension": ".py",
   "name": "python",
   "nbconvert_exporter": "python",
   "pygments_lexer": "ipython3",
   "version": "3.8.5"
  }
 },
 "nbformat": 4,
 "nbformat_minor": 4
}"""
